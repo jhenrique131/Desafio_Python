{
 "cells": [
  {
   "cell_type": "markdown",
   "metadata": {
    "application/vnd.databricks.v1+cell": {
     "cellMetadata": {},
     "inputWidgets": {},
     "nuid": "065ef600-3144-4773-908e-754a8cc67273",
     "showTitle": false,
     "tableResultSettingsMap": {},
     "title": ""
    }
   },
   "source": [
    "### Criar os diretórios\n",
    "\n",
    "**SpaceX + REST Countries** — mapeamento de lançamentos por país de operação (ex.: localizar launchpads e agregar por país).\n"
   ]
  },
  {
   "cell_type": "code",
   "execution_count": 0,
   "metadata": {
    "application/vnd.databricks.v1+cell": {
     "cellMetadata": {},
     "inputWidgets": {},
     "nuid": "0bba2c38-06ce-40e9-8dbb-308baa982cb1",
     "showTitle": false,
     "tableResultSettingsMap": {},
     "title": ""
    }
   },
   "outputs": [],
   "source": [
    "# Configurações iniciais\n",
    "catalog = \"workspace\"\n",
    "schemas = [\"processar\", \"processado\", \"bronze\", \"silver\", \"gold\"]\n",
    "volume = \"vendas\"\n",
    "# Criar catálogo (se não existir)\n",
    "spark.sql(f\"CREATE CATALOG IF NOT EXISTS {catalog}\")\n",
    "# Criar schemas e volumes dentro do catálogo\n",
    "for schema in schemas:\n",
    "    # Criar schema\n",
    "    spark.sql(f\"CREATE SCHEMA IF NOT EXISTS {catalog}.{schema}\")\n",
    " \n",
    "    # Criar volume\n",
    "    spark.sql(f\"CREATE VOLUME IF NOT EXISTS {catalog}.{schema}.{volume}\")\n",
    " \n",
    "    print(f\"Volume criado: {catalog}.{schema}.{volume}\")"
   ]
  }
 ],
 "metadata": {
  "application/vnd.databricks.v1+notebook": {
   "computePreferences": null,
   "dashboards": [],
   "environmentMetadata": {
    "base_environment": "",
    "environment_version": "2"
   },
   "inputWidgetPreferences": null,
   "language": "python",
   "notebookMetadata": {
    "pythonIndentUnit": 4
   },
   "notebookName": "1- Cria Ambiente",
   "widgets": {}
  },
  "language_info": {
   "name": "python"
  }
 },
 "nbformat": 4,
 "nbformat_minor": 0
}
