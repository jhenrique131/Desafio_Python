{
 "cells": [
  {
   "cell_type": "code",
   "execution_count": 0,
   "metadata": {
    "application/vnd.databricks.v1+cell": {
     "cellMetadata": {
      "byteLimit": 2048000,
      "rowLimit": 10000
     },
     "inputWidgets": {},
     "nuid": "d02cd0b7-b3d6-4eba-8451-7856b60bee63",
     "showTitle": false,
     "tableResultSettingsMap": {},
     "title": ""
    }
   },
   "outputs": [],
   "source": [
    "# ======================================================\n",
    "# 1. Função para extrair dados de API REST e converter em DataFrame Spark\n",
    "# ======================================================\n",
    "import requests\n",
    "import json\n",
    "from pyspark.sql.functions import col, lit, when\n",
    "\n",
    "def extract_api_to_df(url, spark):\n",
    "    response = requests.get(url)\n",
    "    if response.status_code == 200:\n",
    "        data = response.json()\n",
    "    else:\n",
    "        raise Exception(f\"Erro ao acessar API {url}: {response.status_code}\")\n",
    "    \n",
    "    rdd = spark.sparkContext.parallelize([json.dumps(data)])\n",
    "    return spark.read.json(rdd)\n",
    "\n",
    "# ======================================================\n",
    "# 2. API Rest Countries\n",
    "# ======================================================\n",
    "url_countries = \"https://restcountries.com/v3.1/all\"\n",
    "df_raw_countries = extract_api_to_df(url_countries, spark)\n",
    "\n",
    "df_countries = df_raw_countries.selectExpr(\n",
    "    \"cca3 as country_code\",\n",
    "    \"name.common as country_name\",\n",
    "    \"region\",\n",
    "    \"subregion\",\n",
    "    \"population\",\n",
    "    \"area\",\n",
    "    \"capital[0] as capital\",\n",
    "    \"languages\"\n",
    ")\n",
    "\n",
    "df_countries = df_countries.withColumn(\n",
    "    \"population_density\",\n",
    "    when(col(\"area\") > 0, col(\"population\") / col(\"area\")).otherwise(lit(None))\n",
    ")\n",
    "\n",
    "display(df_countries.limit(10))  # Databricks exibe bonitinho\n",
    "\n",
    "# ======================================================\n",
    "# 3. API SpaceX Launchpads\n",
    "# ======================================================\n",
    "url_spacex = \"https://api.spacexdata.com/v4/launchpads\"\n",
    "df_raw_spacex = extract_api_to_df(url_spacex, spark)\n",
    "\n",
    "df_spacex = df_raw_spacex.selectExpr(\n",
    "    \"id as launchpad_id\",\n",
    "    \"name as launchpad_name\",\n",
    "    \"locality\",\n",
    "    \"region as launchpad_region\",\n",
    "    \"full_name\",\n",
    "    \"latitude\",\n",
    "    \"longitude\",\n",
    "    \"status\",\n",
    "    \"launch_attempts\",\n",
    "    \"launch_successes\",\n",
    "    \"timezone\"\n",
    ")\n",
    "\n",
    "display(df_spacex.limit(10))\n",
    "\n",
    "# ======================================================\n",
    "# 4. Integração dos dados (SpaceX x Countries)\n",
    "# ======================================================\n",
    "df_join = df_spacex.join(\n",
    "    df_countries,\n",
    "    df_spacex.launchpad_region == df_countries.region,\n",
    "    \"left\"\n",
    ")\n",
    "\n",
    "display(df_join.select(\n",
    "    \"launchpad_name\", \"launchpad_region\", \"country_name\", \"population\", \"capital\"\n",
    ").limit(10))\n",
    "\n",
    "# ======================================================\n",
    "# 5. Persistência no Databricks (Delta Lake ou Parquet)\n",
    "# ======================================================\n",
    "df_countries.write.format(\"delta\").mode(\"overwrite\").save(\"/mnt/datalake/countries_data\")\n",
    "df_spacex.write.format(\"delta\").mode(\"overwrite\").save(\"/mnt/datalake/spacex_launchpads\")\n",
    "df_join.write.format(\"delta\").mode(\"overwrite\").save(\"/mnt/datalake/spacex_countries_join\")\n"
   ]
  }
 ],
 "metadata": {
  "application/vnd.databricks.v1+notebook": {
   "computePreferences": null,
   "dashboards": [],
   "environmentMetadata": {
    "base_environment": "",
    "environment_version": "3"
   },
   "inputWidgetPreferences": null,
   "language": "python",
   "notebookMetadata": {
    "pythonIndentUnit": 4
   },
   "notebookName": "Importação das APIs SpaceX e Countres",
   "widgets": {}
  },
  "language_info": {
   "name": "python"
  }
 },
 "nbformat": 4,
 "nbformat_minor": 0
}
