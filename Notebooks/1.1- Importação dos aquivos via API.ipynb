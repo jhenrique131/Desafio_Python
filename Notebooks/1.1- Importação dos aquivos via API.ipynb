{
 "cells": [
  {
   "cell_type": "code",
   "execution_count": 0,
   "metadata": {
    "application/vnd.databricks.v1+cell": {
     "cellMetadata": {
      "byteLimit": 2048000,
      "rowLimit": 10000
     },
     "inputWidgets": {},
     "nuid": "65f61432-7750-4c0e-b525-0a8137760a3c",
     "showTitle": false,
     "tableResultSettingsMap": {},
     "title": ""
    }
   },
   "outputs": [],
   "source": [
    "import requests\n",
    "\n",
    "url = \"https://api.spacexdata.com/v3/launchpads\"\n",
    "volume_path = \"/Volumes/workspace/1_processar/spacex/launchpads.json\"\n",
    "# Download do conteúdo da API\n",
    "response = requests.get(url)\n",
    "response.raise_for_status()\n",
    "\n",
    "# Inclui o arquivo na pasta de destino\n",
    "dbutils.fs.put(\n",
    "    volume_path,\n",
    "    response.text,\n",
    "    overwrite=True\n",
    ")\n",
    "\n",
    "print(f\"File downloaded and saved to: {volume_path}\")\n"
   ]
  },
  {
   "cell_type": "code",
   "execution_count": 0,
   "metadata": {
    "application/vnd.databricks.v1+cell": {
     "cellMetadata": {
      "byteLimit": 2048000,
      "rowLimit": 10000
     },
     "inputWidgets": {},
     "nuid": "69b24033-2943-4140-a3c8-dceb003e7e41",
     "showTitle": false,
     "tableResultSettingsMap": {},
     "title": ""
    }
   },
   "outputs": [],
   "source": [
    "display(spark.read.json(\"/Volumes/workspace/1_processar/spacex/launchpads.json\")) "
   ]
  },
  {
   "cell_type": "code",
   "execution_count": 0,
   "metadata": {
    "application/vnd.databricks.v1+cell": {
     "cellMetadata": {
      "byteLimit": 2048000,
      "rowLimit": 10000
     },
     "inputWidgets": {},
     "nuid": "dfe7576c-242f-44fd-b06d-6140d2a600d4",
     "showTitle": false,
     "tableResultSettingsMap": {},
     "title": ""
    }
   },
   "outputs": [],
   "source": [
    "import requests\n",
    "\n",
    "url = \"https://restcountries.com/v3.1/independent?status=true\"\n",
    "volume_path = \"/Volumes/workspace/1_processar/paises/paises.json\"\n",
    "# Download do conteúdo da API\n",
    "response = requests.get(url)\n",
    "response.raise_for_status()\n",
    "\n",
    "# Inclui o arquivo na pasta de destino\n",
    "dbutils.fs.put(\n",
    "    volume_path,\n",
    "    response.text,\n",
    "    overwrite=True\n",
    ")\n",
    "\n",
    "print(f\"File downloaded and saved to: {volume_path}\")\n"
   ]
  },
  {
   "cell_type": "code",
   "execution_count": 0,
   "metadata": {
    "application/vnd.databricks.v1+cell": {
     "cellMetadata": {
      "byteLimit": 2048000,
      "rowLimit": 10000
     },
     "inputWidgets": {},
     "nuid": "40af4ff5-306b-482f-b766-4bf6c6af7460",
     "showTitle": false,
     "tableResultSettingsMap": {},
     "title": ""
    }
   },
   "outputs": [],
   "source": [
    "display(spark.read.json(\"/Volumes/workspace/1_processar/paises/paises.json\"))  "
   ]
  }
 ],
 "metadata": {
  "application/vnd.databricks.v1+notebook": {
   "computePreferences": {
    "hardware": {
     "accelerator": null,
     "gpuPoolId": null,
     "memory": null
    }
   },
   "dashboards": [],
   "environmentMetadata": {
    "base_environment": "",
    "environment_version": "2"
   },
   "inputWidgetPreferences": null,
   "language": "python",
   "notebookMetadata": {
    "pythonIndentUnit": 4
   },
   "notebookName": "1.1- Importação dos aquivos via API",
   "widgets": {}
  },
  "language_info": {
   "name": "python"
  }
 },
 "nbformat": 4,
 "nbformat_minor": 0
}
